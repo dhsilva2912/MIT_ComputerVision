{
  "nbformat": 4,
  "nbformat_minor": 0,
  "metadata": {
    "colab": {
      "name": "tutorial_convolution.ipynb",
      "provenance": [],
      "collapsed_sections": [],
      "include_colab_link": true
    },
    "kernelspec": {
      "name": "python3",
      "display_name": "Python 3"
    }
  },
  "cells": [
    {
      "cell_type": "markdown",
      "metadata": {
        "id": "view-in-github",
        "colab_type": "text"
      },
      "source": [
        "<a href=\"https://colab.research.google.com/github/dhsilva2912/MIT_ComputerVision/blob/main/tutorial_convolution.ipynb\" target=\"_parent\"><img src=\"https://colab.research.google.com/assets/colab-badge.svg\" alt=\"Open In Colab\"/></a>"
      ]
    },
    {
      "cell_type": "markdown",
      "metadata": {
        "id": "RV5q4SwlZ6mX"
      },
      "source": [
        "# **[Tutorial: brief introduction to convolutions](https://)**"
      ]
    },
    {
      "cell_type": "code",
      "metadata": {
        "id": "Y-dbzRocoPiC"
      },
      "source": [
        "# Import libraries\n",
        "import numpy as np\n",
        "import matplotlib.pyplot as plt\n",
        "import cv2"
      ],
      "execution_count": null,
      "outputs": []
    },
    {
      "cell_type": "markdown",
      "metadata": {
        "id": "2JjqToMrECcV"
      },
      "source": [
        "## **1. Reading an image**\n",
        "\n",
        "We will start with a tiny grayscale image of just 25x25 pixels. Such a small image will allow us exploring what happens to every pixel when we apply different functions to it. "
      ]
    },
    {
      "cell_type": "code",
      "metadata": {
        "id": "bd0INWokWPEv"
      },
      "source": [
        "# 1.1 Get image from the web repository\n",
        "!wget -nv http://people.csail.mit.edu/torralba/share/course/bird25x25.jpg"
      ],
      "execution_count": null,
      "outputs": []
    },
    {
      "cell_type": "code",
      "metadata": {
        "id": "UVP7UsNcoYkR"
      },
      "source": [
        "# 1.2 Load one image, visualize it and print its size \n",
        "\n",
        "# Read image\n",
        "img_rgb = cv2.imread(\"bird25x25.jpg\")\n",
        "\n",
        "# OpenCV encodes color as B,G,R which is the opposite way on how we normaly store images. \n",
        "img_bgr = cv2.cvtColor(img_rgb, cv2.COLOR_BGR2RGB)\n",
        "\n",
        "# Transfom to gray scale\n",
        "img_gray = cv2.cvtColor(img_bgr, cv2.COLOR_BGR2GRAY)\n",
        "\n",
        "# Print image size\n",
        "print (img_bgr.shape)\n",
        "\n",
        "# Show the images\n",
        "plt.subplot(1,2,1)\n",
        "plt.imshow(img_bgr)\n",
        "plt.subplot(1,2,2)\n",
        "plt.imshow(img_gray, cmap='gray', vmin=0, vmax=255)\n"
      ],
      "execution_count": null,
      "outputs": []
    },
    {
      "cell_type": "code",
      "metadata": {
        "id": "2ckKYqbbCb5n"
      },
      "source": [
        "# 1.3 The image is just an array of numbers. Let's look at it.\n",
        "print (img_gray)"
      ],
      "execution_count": null,
      "outputs": []
    },
    {
      "cell_type": "markdown",
      "metadata": {
        "id": "Ch8AcDR-YFOf"
      },
      "source": [
        "## **2. Convolution**"
      ]
    },
    {
      "cell_type": "code",
      "metadata": {
        "id": "3K_6hM53lyTg"
      },
      "source": [
        "# 2.1 Let's start with a very simple image or 5x5 pixels:\n",
        "input_img = np.array([[0,0,0,0,5],\n",
        "                      [0,0,0,0,0],\n",
        "                      [0,0,1,0,0],\n",
        "                      [0,0,0,0,0],\n",
        "                      [0,0,0,0,0]], dtype='float')\n",
        "plt.imshow(input_img, cmap='gray', vmin=0, vmax=5)"
      ],
      "execution_count": null,
      "outputs": []
    },
    {
      "cell_type": "code",
      "metadata": {
        "id": "VIhoxuqMgQTE"
      },
      "source": [
        "# We define the following convolution kernel:\n",
        "kernel = np.array([[1,0,0], \n",
        "                   [0,0,0], \n",
        "                   [0,0,-1]], dtype='float')\n"
      ],
      "execution_count": null,
      "outputs": []
    },
    {
      "cell_type": "code",
      "metadata": {
        "id": "mZsJQEMKg33k"
      },
      "source": [
        "# The convolution is computed using the following function:\n",
        "from scipy import signal\n",
        "out_img = signal.convolve2d(input_img, kernel, 'same')\n",
        "# the same \n",
        "out_img = cv2.filter2D(src=input_img, kernel=kernel, ddepth=-1, borderType=cv2.BORDER_CONSTANT)\n",
        "\n",
        "# Let's look at the input, kernel and the result of the convolution\n",
        "print('input image:')\n",
        "print(input_img)\n",
        "print('kernel:')\n",
        "print(kernel)\n",
        "print('output image:')\n",
        "print(out_img)"
      ],
      "execution_count": null,
      "outputs": []
    },
    {
      "cell_type": "markdown",
      "metadata": {
        "id": "ZRML1636qV48"
      },
      "source": [
        "Note that the convolution kernel appears mirrored (left-right, up-down)"
      ]
    },
    {
      "cell_type": "code",
      "metadata": {
        "id": "RgJV1MJO4KjM"
      },
      "source": [
        "# Show the images\n",
        "plt.subplot(1,3,1)\n",
        "plt.imshow(input_img, cmap='gray', vmin=0, vmax=1)\n",
        "plt.title('input')\n",
        "plt.subplot(1,3,2)\n",
        "plt.imshow(kernel, cmap='gray', vmin=-1, vmax=1)\n",
        "plt.title('kernel')\n",
        "plt.subplot(1,3,3)\n",
        "plt.imshow(out_img, cmap='gray', vmin=-1, vmax=1)\n",
        "plt.title('output')\n"
      ],
      "execution_count": null,
      "outputs": []
    },
    {
      "cell_type": "code",
      "metadata": {
        "id": "H1Egj0wBYIn-"
      },
      "source": [
        "# 2.2 Now let's do this the real image that we loaded a the beginning of the tutorial\n",
        "# The image is stored in the variable: img_gray\n",
        "kernel = np.array([[1,0,0], \n",
        "                   [0,0,0], \n",
        "                   [0,0,-1]], dtype='float')\n",
        "out = cv2.filter2D(src=img_gray.astype('float'), kernel=kernel, ddepth=-1, borderType=cv2.BORDER_REFLECT)\n",
        "# Note that in the convolution we use now \"BORDER_REFLECT\". Change that to BORDER_CONSTANT.\n",
        "# BORDER_REFLECT produces the following type of padding: fedcba|abcdefgh|hgfedcb\n",
        "\n",
        "# Show the images\n",
        "plt.subplot(1,3,1)\n",
        "plt.imshow(img_gray, cmap='gray', vmin=0, vmax=256)\n",
        "plt.title('input')\n",
        "plt.subplot(1,3,2)\n",
        "plt.imshow(kernel, cmap='gray', vmin=-1, vmax=1)\n",
        "plt.title('kernel')\n",
        "plt.subplot(1,3,3)\n",
        "plt.imshow(out, cmap='gray', vmin=-128, vmax=128)\n",
        "plt.title('output')"
      ],
      "execution_count": null,
      "outputs": []
    },
    {
      "cell_type": "code",
      "metadata": {
        "id": "ieEps6PVa-8-"
      },
      "source": [
        "# Let's look at the numbersc(just the first 5x5 values):\n",
        "print('input image:')\n",
        "print(img_gray[0:5,0:5])\n",
        "print('kernel:')\n",
        "print(kernel)\n",
        "print('output image:')\n",
        "print(out[0:5,0:5])"
      ],
      "execution_count": null,
      "outputs": []
    },
    {
      "cell_type": "markdown",
      "metadata": {
        "id": "HMEAA3Ypjmuc"
      },
      "source": [
        "## **3. A familly of linear filters**\n"
      ]
    },
    {
      "cell_type": "code",
      "metadata": {
        "id": "5GuRP7DOl3Tz"
      },
      "source": [
        "# binomial (low-pass filter)\n",
        "binomial = np.array([[1,2,1],\n",
        "                   [2,4,2],\n",
        "                   [1,2,1]], dtype='float')/16\n",
        "\n",
        "# horizontal and vertical edge detection:\n",
        "sobel_x = np.array([[1,0,-1],\n",
        "                   [2,0,-2],\n",
        "                   [1,0,-1]], dtype='float')\n",
        "\n",
        "sobel_y = np.array([[1,2,1],\n",
        "                   [0,0,0],\n",
        "                   [-1,-2,-1]], dtype='float')\n",
        "\n",
        "# Laplacian\n",
        "laplacian = np.array([[0,1,0],\n",
        "                   [1,-4,1],\n",
        "                   [0,1,0]], dtype='float')\n",
        "\n",
        "# Try using those filters in the section 2.2"
      ],
      "execution_count": null,
      "outputs": []
    },
    {
      "cell_type": "markdown",
      "metadata": {
        "id": "KgjCMFkstRT5"
      },
      "source": [
        "## **4. Convolution in matrix form**"
      ]
    },
    {
      "cell_type": "code",
      "metadata": {
        "id": "r3i8wAnqyAI2"
      },
      "source": [
        "# The convolution is a linear operator. \n",
        "#\n",
        "# The following function transforms a convolution kernel into a matrix. This is not computationally efficient, \n",
        "# but it will let us see the convolution from a different perspective.\n",
        "\n",
        "def getMatrixFromKernel(kernel, imagesize):\n",
        "  imagesize = int(imagesize) # I assume the input image is square.\n",
        "\n",
        "  # loop over impulses\n",
        "  r = np.zeros((imagesize*imagesize, imagesize*imagesize))\n",
        "  k=0\n",
        "  for x in range(0,imagesize):\n",
        "    for y in range(0,imagesize):\n",
        "      # Delta image: create an image with a single 1\n",
        "      delta = np.zeros((imagesize,imagesize))\n",
        "      delta[x,y] = 1\n",
        "\n",
        "      # Filter the delta image with the kernel\n",
        "      out = cv2.filter2D(src=delta, kernel=kernel, ddepth=-1, borderType=cv2.BORDER_CONSTANT) # check what happens using BORDER_REFLECT\n",
        "\n",
        "      # make a column vector \n",
        "      out = out.flatten()\n",
        "\n",
        "      r[:,k] = out\n",
        "      k=k+1\n",
        "  return r"
      ],
      "execution_count": null,
      "outputs": []
    },
    {
      "cell_type": "code",
      "metadata": {
        "id": "PEdjBtym5ecb"
      },
      "source": [
        "# Let's check what happens with one kernel:\n",
        "kernel = sobel_x\n",
        "R = getMatrixFromKernel(kernel, 5)\n",
        "\n",
        "# We can now plot the matrix equivalent to the convolution kernel:\n",
        "print(R.shape)\n",
        "plt.imshow(R, cmap='gray', vmin=-2, vmax=2)"
      ],
      "execution_count": null,
      "outputs": []
    },
    {
      "cell_type": "code",
      "metadata": {
        "id": "J-lzaR_87LrB"
      },
      "source": [
        "# We can now check that multiplying by this matrix is equivalent to the convolution\n",
        "\n",
        "# First let's build a simple image:\n",
        "input_img = np.array([[0,0,0,0,0],\n",
        "                      [0,0,0,0,0],\n",
        "                      [0,0,1,0,0],\n",
        "                      [0,0,0,0,0],\n",
        "                      [0,0,0,0,0]], dtype='float')\n",
        "# now we rasterize the image into a vector:\n",
        "input_img_flat = input_img.flatten()\n",
        "print(input_img.shape)\n",
        "print(R.shape)\n",
        "\n",
        "output = np.dot(R,input_img_flat)\n",
        "output= np.reshape(output, (5,5))\n",
        "\n",
        "plt.subplot(1,3,1)\n",
        "plt.imshow(input_img, cmap='gray', vmin=0, vmax=1)\n",
        "plt.title('input')\n",
        "plt.subplot(1,3,2)\n",
        "plt.imshow(kernel, cmap='gray', vmin=-1, vmax=1)\n",
        "plt.title('kernel')\n",
        "plt.subplot(1,3,3)\n",
        "plt.imshow(output, cmap='gray', vmin=-1, vmax=1)\n",
        "plt.title('output')"
      ],
      "execution_count": null,
      "outputs": []
    },
    {
      "cell_type": "code",
      "metadata": {
        "id": "jT68VhXpDG4j"
      },
      "source": [
        "# Another example:\n",
        "\n",
        "R = getMatrixFromKernel(kernel, 25)\n",
        "print(img_gray.shape)\n",
        "output = np.dot(R,img_gray.flatten()).reshape((25,25))\n",
        "\n",
        "plt.subplot(1,3,1)\n",
        "plt.imshow(img_gray, cmap='gray', vmin=0, vmax=255)\n",
        "plt.title('input')\n",
        "plt.subplot(1,3,2)\n",
        "plt.imshow(kernel, cmap='gray', vmin=-1, vmax=1)\n",
        "plt.title('kernel')\n",
        "plt.subplot(1,3,3)\n",
        "plt.imshow(output, cmap='gray', vmin=-128, vmax=128)\n",
        "plt.title('output')"
      ],
      "execution_count": null,
      "outputs": []
    },
    {
      "cell_type": "markdown",
      "metadata": {
        "id": "1beFDNkTx8ie"
      },
      "source": [
        "## **5. Hybrid images**"
      ]
    },
    {
      "cell_type": "code",
      "metadata": {
        "id": "IEC9GWm_tPRV"
      },
      "source": [
        "# Hybrid images are a visual illusion created by combining two images into one. One image is blurred and the other image is sharpenned.\n",
        "# then we sum the two resulting images creating a new \"hybrid\" image that will change its identity depending on the distance at which\n",
        "# we will look at it!\n",
        "\n",
        "# load image 1: im1\n",
        "\n",
        "# apply a gaussian filter (gaussian kernel should sum up to 1). We will call the output: g1\n",
        "\n",
        "# load image 2: im2\n",
        "\n",
        "# apply a gaussian filter(gaussian kernel should sum up to 1). We will call the output: g2\n",
        "\n",
        "# compute hybrid image: h = g1 + (im2-g2)\n"
      ],
      "execution_count": null,
      "outputs": []
    },
    {
      "cell_type": "markdown",
      "metadata": {
        "id": "J5uexZARj66K"
      },
      "source": [
        "## **6. Retinex**"
      ]
    },
    {
      "cell_type": "code",
      "metadata": {
        "id": "xQBjxRDekB_G"
      },
      "source": [
        "# First load an image. Here is the image I used in the slides:\n",
        "!wget -nv http://people.csail.mit.edu/torralba/share/course/retinex_square_64x64.png\n",
        "\n",
        "img_rgb = cv2.imread(\"retinex_square_64x64.png\")\n",
        "img_bgr = cv2.cvtColor(img_rgb, cv2.COLOR_BGR2RGB)\n",
        "img_gray = cv2.cvtColor(img_bgr, cv2.COLOR_BGR2GRAY)\n",
        "\n",
        "plt.imshow(img_gray, cmap='gray', vmin=0, vmax=255)\n"
      ],
      "execution_count": null,
      "outputs": []
    }
  ]
}